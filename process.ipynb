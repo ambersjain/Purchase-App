{
 "cells": [
  {
   "cell_type": "markdown",
   "metadata": {},
   "source": [
    "Allow input of purchases via a file, \n",
    "containing data in the JSON format specified below.\n",
    "\n",
    "Parse the purchase data and calculate the following statistics:\n",
    "\n",
    "- total volume of spend\n",
    "- average purchase value\n",
    "- maximum purchase value\n",
    "- median purchase value\n",
    "- number of unique products purchased\n",
    "- Hint: purchase value will need to be computed\n",
    "\n",
    "Print results to STDOUT in a JSON format\n",
    "\n",
    "Run on either Linux or Mac OS X"
   ]
  },
  {
   "cell_type": "code",
   "execution_count": 88,
   "metadata": {},
   "outputs": [
    {
     "name": "stdout",
     "output_type": "stream",
     "text": [
      "File loaded successfully!\n"
     ]
    }
   ],
   "source": []
  },
  {
   "cell_type": "code",
   "execution_count": 122,
   "metadata": {},
   "outputs": [
    {
     "name": "stdout",
     "output_type": "stream",
     "text": [
      "File loaded successfully!\n",
      "{\n",
      "    \"Total Volume of Spend\": 101975.0,\n",
      "    \"Average purchase value\": 2039.5,\n",
      "    \"Maximum purchase value\": 4721.0,\n",
      "    \"Median purchase value\": 2043.5,\n",
      "    \"Number of unique products purchased\": 88\n",
      "}\n"
     ]
    }
   ],
   "source": [
    "import os\n",
    "import json\n",
    "\n",
    "# Get complete current working directory (to ensure the script works regardless of where it is being executed)\n",
    "## Assumption: file will be available within the same directory\n",
    "current_directory = os.getcwd()\n",
    "file_path = os.path.join(current_directory, 'purchases_v1.json')\n",
    "\n",
    "\n",
    "try:\n",
    "    with open(file_path, 'r') as file:\n",
    "        data = json.load(file)\n",
    "    print(\"File loaded successfully!\")\n",
    "except FileNotFoundError:\n",
    "    print(f\"file {file_path} was not found.\")\n",
    "except Exception as e:\n",
    "    print(f\"An unexpected error occurred: {e}\")\n",
    "\n",
    "\n",
    "total_volume_of_spend = 0\n",
    "unique_purchases = []\n",
    "purchase_data = {}  # Dictionary to store purchase_id as keys and purchase_total as values\n",
    "\n",
    "#Using set instead of list as it provides a set of unique elements by default\n",
    "unique_products = set()\n",
    "\n",
    "for purchase in data:\n",
    "    value_per_purchase = 0\n",
    "    for item in purchase['items']:\n",
    "        # Store quantity, purchase and price\n",
    "        quantity = int(item.get('quantity', 0))  # Default to 0 if quantity is missing\n",
    "        price = float(item.get('price', 0))  # Default to 0 if price is missing\n",
    "        total_volume_of_spend += price * quantity\n",
    "        value_per_purchase += price * quantity\n",
    "        unique_products.add(item['product_name']) # Automatically check unique product name\n",
    "        \n",
    "    # Store unique purchases, Assumption: purchase id might not be unique\n",
    "    if purchase['purchase_id'] not in data:\n",
    "        purchase_data[purchase['purchase_id']] = value_per_purchase\n",
    "        # As a dict, store purchase_id and price\n",
    "\n",
    "# Calculate average\n",
    "if len(purchase_data) > 0:\n",
    "    avg_purchase_value = total_volume_of_spend / len(purchase_data)\n",
    "else:\n",
    "    avg_purchase_value = 0  # Handle division by zero\n",
    "\n",
    "\n",
    "# Calculate max value if the dict is non null\n",
    "max_purchase_value = max(purchase_data.values(), default = 0)\n",
    "\n",
    "#maximum_purchase_value = max()\n",
    "\n",
    "# Calculate the median purchase value\n",
    "\n",
    "'''\n",
    "Example\n",
    "\n",
    "# [1, 2, 3, 4, 5, 6]\n",
    "# (3+4)/2\n",
    "# (list[2] + list[3]) / 2\n",
    "# ((len(list) - 1)/2) + len(list)/2\n",
    "\n",
    "'''\n",
    "\n",
    "if len(purchase_data) > 0:\n",
    "    # First need to get sorted values in a list\n",
    "    sorted_purchase_values = sorted(purchase_data.values())\n",
    "    length_purchase_values = len(sorted_purchase_values)\n",
    "    index = (length_purchase_values - 1) // 2\n",
    "\n",
    "    if (length_purchase_values % 2 == 0):\n",
    "        median = (sorted_purchase_values[index] + sorted_purchase_values[index + 1])/2\n",
    "    else:\n",
    "        median = sorted_purchase_values[index]\n",
    "else:\n",
    "    print(\"No data\")\n",
    "    median = 0\n",
    "\n",
    "\n",
    "# Get the number of unique products purchased\n",
    "number_of_unique_products = len(unique_products)\n",
    "\n",
    "\n",
    "# Print final results\n",
    "results = {\n",
    "    \"Total Volume of Spend\": total_volume_of_spend,\n",
    "    \"Average purchase value\": avg_purchase_value,\n",
    "    \"Maximum purchase value\": max_purchase_value,\n",
    "    \"Median purchase value\": median,\n",
    "    \"Number of unique products purchased\": number_of_unique_products\n",
    "}\n",
    "\n",
    "# Print the results in JSON format\n",
    "print(json.dumps(results, indent=4))"
   ]
  },
  {
   "cell_type": "code",
   "execution_count": null,
   "metadata": {},
   "outputs": [],
   "source": []
  },
  {
   "cell_type": "markdown",
   "metadata": {},
   "source": [
    "- Total volume of spend: $101,975.00\n",
    "- Average purchase value: $2,039.50\n",
    "- Maximum purchase value: $4,721.00\n",
    "- Median purchase value: $2,043.50\n",
    "- Number of unique products purchased: 88"
   ]
  },
  {
   "cell_type": "markdown",
   "metadata": {},
   "source": []
  }
 ],
 "metadata": {
  "kernelspec": {
   "display_name": "Python 3",
   "language": "python",
   "name": "python3"
  },
  "language_info": {
   "codemirror_mode": {
    "name": "ipython",
    "version": 3
   },
   "file_extension": ".py",
   "mimetype": "text/x-python",
   "name": "python",
   "nbconvert_exporter": "python",
   "pygments_lexer": "ipython3",
   "version": "3.9.6"
  }
 },
 "nbformat": 4,
 "nbformat_minor": 2
}
